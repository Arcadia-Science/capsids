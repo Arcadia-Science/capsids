{
 "cells": [
  {
   "cell_type": "markdown",
   "id": "cb66e04c",
   "metadata": {},
   "source": [
    "# Overview\n",
    "\n",
    "This notebook was used to prepare the UniProt `features_file.tsv` to use for Cluster Mode of the ProteinCartography pipeline.\n",
    "\n",
    "This notebook uses scripts from the [ProteinCartography repo]([https://github.com/Arcadia-Science/ProteinCartography](https://github.com/Arcadia-Science/ProteinCartography/tree/v0.4.2)) (V0.4.2). In order to use this notebook, you must have the ProteinCartography repo downloaded and activate the conda environment created by using the [`envs/web_apis.yml`](https://github.com/Arcadia-Science/ProteinCartography/blob/v0.4.2/envs/web_apis.yml) file in the ProteinCartography repo. After setting up and activating the repo, install `ipykernal` in order to use the jupyter notebook using the following command: \n",
    "```\n",
    "conda install -n web_apis ipykernel --update-deps --force-reinstall\n",
    "```\n",
    "\n",
    "\n",
    "The proteins analyzed here are found by searching [UniProt](https://www.uniprot.org) for the species of interest (in this case *Ornithodoros turicata*). This notebook will allow you to download the associated metadata and prep it for analysis with ProteinCartography. To download the *Ornithodoros* protein information, you should use the file `metadata/ornithodoros.txt` found in this repo and in the [Zenodo](10.5281/zenodo.12796464) repo..\n"
   ]
  },
  {
   "cell_type": "markdown",
   "id": "d627755d",
   "metadata": {},
   "source": [
    "## Setup\n"
   ]
  },
  {
   "cell_type": "markdown",
   "id": "70788f9a",
   "metadata": {},
   "source": [
    "Import dependencies."
   ]
  },
  {
   "cell_type": "code",
   "execution_count": 1,
   "id": "9e2e5aca-1954-4264-b2d2-05c2d0fdd72f",
   "metadata": {},
   "outputs": [],
   "source": [
    "import os\n",
    "import pandas as pd\n",
    "import sys\n",
    "\n",
    "PC_path = \"./../../ProteinCartography/ProteinCartography\"\n",
    "sys.path.append(PC_path)"
   ]
  },
  {
   "cell_type": "markdown",
   "id": "74773f27",
   "metadata": {},
   "source": [
    "Prepare directories. "
   ]
  },
  {
   "cell_type": "code",
   "execution_count": null,
   "id": "2c7c84f0",
   "metadata": {},
   "outputs": [],
   "source": [
    "os.makedirs(\"output/\", exist_ok=True)"
   ]
  },
  {
   "cell_type": "markdown",
   "id": "b7e31249",
   "metadata": {},
   "source": [
    "## Download UniProt metadata\n",
    "\n",
    "After obtaining UniProt IDs, we use them to download metadata from UniProt. This data will be the bulk of the UniProt features file.\n"
   ]
  },
  {
   "cell_type": "code",
   "execution_count": null,
   "id": "fae17cdd",
   "metadata": {},
   "outputs": [],
   "source": [
    "# Set paths\n",
    "\n",
    "fetch_uniprot_metadata = os.path.join(PC_path, \"fetch_uniprot_metadata.py\")\n",
    "input_uniprot_metadata_download = \"ornithodoros.txt\"\n",
    "output_uniprot_metadata_download = \"uniprot_features1.tsv\"\n",
    "\n",
    "os.system(\n",
    "    f\"python {fetch_uniprot_metadata} -i {input_uniprot_metadata_download} -o {output_uniprot_metadata_download}\"\n",
    ")\n"
   ]
  },
  {
   "cell_type": "markdown",
   "id": "cbc39c53",
   "metadata": {},
   "source": [
    "## Reformat features file\n",
    "\n",
    "The features file from UniProt must be reformatted slightly to work well with ProteinCartography. We reformatted the file to fit with guidelines listed [here](https://github.com/Arcadia-Science/ProteinCartography#feature-file-main-columns).\n"
   ]
  },
  {
   "cell_type": "code",
   "execution_count": null,
   "id": "dd69b425-8b2c-45d0-a5f6-2b44c2cc34bd",
   "metadata": {},
   "outputs": [],
   "source": [
    "# Read in raw features file and change first column to protid\n",
    "\n",
    "uniprot_features = pd.read_csv(\"uniprot_features1.tsv\", sep=\"\\t\", names=[\"protid\"])\n",
    "\n",
    "# Reformat lineage column\n",
    "\n",
    "lineage_string_splitter = lambda lineage_string: [\n",
    "    rank.split(\" (\")[0] for rank in lineage_string.split(\", \")\n",
    "]\n",
    "\n",
    "uniprot_features[\"Lineage\"] = uniprot_features[\n",
    "    \"Taxonomic lineage\"\n",
    "].apply(lineage_string_splitter)\n",
    "\n",
    "# Saves updated uniprot_features file\n",
    "\n",
    "uniprot_features.to_csv(\"../output/uniprot_features.tsv\", sep=\"\\t\", index=None)"
   ]
  }
 ],
 "metadata": {
  "kernelspec": {
   "display_name": "Python 3.9.16 ('2023-actin-embedding')",
   "language": "python",
   "name": "python3"
  },
  "language_info": {
   "codemirror_mode": {
    "name": "ipython",
    "version": 3
   },
   "file_extension": ".py",
   "mimetype": "text/x-python",
   "name": "python",
   "nbconvert_exporter": "python",
   "pygments_lexer": "ipython3",
   "version": "3.9.16"
  },
  "vscode": {
   "interpreter": {
    "hash": "a7feb7b648551b17321812410889dc113a13e3f7213a30852c19b0534c2deed0"
   }
  }
 },
 "nbformat": 4,
 "nbformat_minor": 5
}
