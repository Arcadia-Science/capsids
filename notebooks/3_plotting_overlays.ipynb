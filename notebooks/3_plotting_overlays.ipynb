{
 "cells": [
  {
   "cell_type": "markdown",
   "metadata": {},
   "source": [
    "# Overview\n",
    "\n",
    "This notebook is designed to be used alongside the [ProteinCartography pipeline](https://github.com/Arcadia-Science/ProteinCartography/tree/v0.4.2) (V0.4.2) to update the `plot_interactive.py` script to allow for custom overlays. \n",
    "\n",
    "To use this notebook, make sure you have the ProteinCartography repo cloned and that you've activated the conda environment created using [`envs/plotting.yml`](https://github.com/Arcadia-Science/ProteinCartography/blob/v0.4.2/envs/plotting.yml) from the ProteinCartography repo.\n",
    "\n",
    "The file used to create the custom plots, `ornithodoros_aggregated_features_pca_umap.tsv`, can be found in the [Zenodo](10.5281/zenodo.12796464) repo. \n"
   ]
  },
  {
   "cell_type": "markdown",
   "metadata": {},
   "source": [
    "## Setup\n",
    "\n",
    "Import dependencies.\n"
   ]
  },
  {
   "cell_type": "code",
   "execution_count": null,
   "metadata": {},
   "outputs": [],
   "source": [
    "import os\n",
    "import pandas as pd\n",
    "import sys\n",
    "import plotly.express as px\n",
    "import arcadia_pycolor as apc\n",
    "\n",
    "sys.path.append(\"./../../ProteinCartography-private/ProteinCartography/\")\n",
    "from plot_interactive import (\n",
    "    apply_coordinates,\n",
    "    plot_interactive,\n",
    "    generate_plotting_rules,\n",
    ")"
   ]
  },
  {
   "cell_type": "markdown",
   "metadata": {},
   "source": [
    "## Create plotting rules\n"
   ]
  },
  {
   "cell_type": "code",
   "execution_count": null,
   "metadata": {},
   "outputs": [],
   "source": [
    "# Set up annotation colors\n",
    "from arcadia_pycolor import adjust_lightness\n",
    "\n",
    "tick_v_virus_colors = {\n",
    "    \"tick\": apc.All[\"arcadia:marineblue\"], \n",
    "    \"virus\": apc.All[\"arcadia:lightgrey\"], \n",
    "\n",
    "}"
   ]
  },
  {
   "cell_type": "code",
   "execution_count": null,
   "metadata": {},
   "outputs": [],
   "source": [
    "# Import plotting rules\n",
    "plotting_rules = generate_plotting_rules(\n",
    "    taxon_focus=\"euk\", keyids=[\"\"]\n",
    ")"
   ]
  },
  {
   "cell_type": "code",
   "execution_count": null,
   "metadata": {},
   "outputs": [],
   "source": [
    "# Define plotting rules\n",
    "custom_plotting_rules = {\n",
    "    \"tick_or_virus\": {\n",
    "        \"type\": \"categorical\",\n",
    "        \"color_dict\": tick_v_virus_colors,\n",
    "        \"apply\": lambda x: str(x),\n",
    "        \"textlabel\": \"Tick or Virus\",\n",
    "        \"fillna\": \"\",\n",
    "    },\n",
    "}"
   ]
  },
  {
   "cell_type": "code",
   "execution_count": null,
   "metadata": {},
   "outputs": [],
   "source": [
    "# Merge plotting rules\n",
    "combined_plotting_rules = plotting_rules | custom_plotting_rules\n",
    "combined_plotting_rules"
   ]
  },
  {
   "cell_type": "markdown",
   "metadata": {},
   "source": [
    "## Plotting\n",
    "\n",
    "We created the interactive plot using the `plot_interactive` command from the `plot_interactive.py` script within ProteinCartography.\n"
   ]
  },
  {
   "cell_type": "code",
   "execution_count": null,
   "metadata": {},
   "outputs": [],
   "source": [
    "plot_interactive(\n",
    "    coordinates_file=\"ornithodoros_aggregated_features_pca_umap.tsv\",\n",
    "    plotting_rules=custom_plotting_rules,\n",
    "    output_file=\"tick_or_virus_umap.html\",\n",
    "    keyids=[\"\"],\n",
    "    plot_width = 700,\n",
    "    plot_height = 750,\n",
    "    show=False,\n",
    ")"
   ]
  }
 ],
 "metadata": {
  "kernelspec": {
   "display_name": "Python 3.10.14 ('cartography_plotting')",
   "language": "python",
   "name": "python3"
  },
  "language_info": {
   "codemirror_mode": {
    "name": "ipython",
    "version": 3
   },
   "file_extension": ".py",
   "mimetype": "text/x-python",
   "name": "python",
   "nbconvert_exporter": "python",
   "pygments_lexer": "ipython3",
   "version": "3.10.14"
  },
  "orig_nbformat": 4,
  "vscode": {
   "interpreter": {
    "hash": "cbe31e92f321ce7d4cfc30cbfebfa9bc93bd364b59a05a4dd578930b140da256"
   }
  }
 },
 "nbformat": 4,
 "nbformat_minor": 2
}
