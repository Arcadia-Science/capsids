{
 "cells": [
  {
   "cell_type": "markdown",
   "metadata": {},
   "source": [
    "## Overview\n",
    "\n",
    "This notebook is used to download structures from the [AlphaFold database](https://alphafold.ebi.ac.uk). After getting a filtered list of UniProt IDs in the `1_prep_metadata.ipynb` notebook, you should use this notebook to fetch structures. You again need the [ProteinCartography repo](https://github.com/Arcadia-Science/ProteinCartography/tree/v0.4.2) (V0.4.2) to run this notebook, and you should activate the [`envs/web_apis.yml`](https://github.com/Arcadia-Science/ProteinCartography/blob/v0.4.2/envs/web_apis.yml) environment from the ProteinCartography repository. If you haven't previously, activate the conda environment and install `ipykernal` in order to use the jupyter notebook using the following command: \n",
    "```\n",
    "conda install -n web_apis ipykernel --update-deps --force-reinstall\n",
    "```\n",
    "To download the *Ornithodoros* protein structures, you should use the file `metadata/ornithodoros.txt` found in this repo and in the [Zenodo](10.5281/zenodo.12796464) repo."
   ]
  },
  {
   "cell_type": "markdown",
   "metadata": {},
   "source": [
    "## Setup\n",
    "\n",
    "Import dependencies.\n"
   ]
  },
  {
   "cell_type": "code",
   "execution_count": 1,
   "metadata": {},
   "outputs": [],
   "source": [
    "import os\n",
    "import pandas as pd\n",
    "import sys\n",
    "\n",
    "sys.path.append(\"./../../ProteinCartography/\")\n",
    "PC_path = \"./../../ProteinCartography/ProteinCartography\""
   ]
  },
  {
   "cell_type": "markdown",
   "metadata": {},
   "source": [
    "Prepare directory.\n"
   ]
  },
  {
   "cell_type": "code",
   "execution_count": 2,
   "metadata": {},
   "outputs": [],
   "source": [
    "os.makedirs(\"structures/\", exist_ok=True)"
   ]
  },
  {
   "cell_type": "markdown",
   "metadata": {},
   "source": [
    "## Download AlphaFold structures\n"
   ]
  },
  {
   "cell_type": "code",
   "execution_count": 3,
   "metadata": {},
   "outputs": [
    {
     "name": "stderr",
     "output_type": "stream",
     "text": [
      "Downloading PDBs from AlphaFold:   0%|          | 33/7598 [00:01<04:20, 28.99it/s]\n"
     ]
    }
   ],
   "source": [
    "download_pdbs = os.path.join(PC_path, \"download_pdbs.py\")\n",
    "input = \"../metadata/ornithodoros.txt\"\n",
    "output = \"structures/\"\n",
    "\n",
    "\n",
    "os.system(\n",
    "    f\"python {download_pdbs} -i {input} -o {output}\"\n",
    ")"
   ]
  },
  {
   "cell_type": "code",
   "execution_count": null,
   "metadata": {},
   "outputs": [],
   "source": []
  }
 ],
 "metadata": {
  "kernelspec": {
   "display_name": "Python 3.9.19 ('web_apis')",
   "language": "python",
   "name": "python3"
  },
  "language_info": {
   "codemirror_mode": {
    "name": "ipython",
    "version": 3
   },
   "file_extension": ".py",
   "mimetype": "text/x-python",
   "name": "python",
   "nbconvert_exporter": "python",
   "pygments_lexer": "ipython3",
   "version": "3.9.19"
  },
  "orig_nbformat": 4,
  "vscode": {
   "interpreter": {
    "hash": "b78e57f62b96b9eefa5c298fd0eaf8b9c100b387a5873379bc37f46c4dedeb71"
   }
  }
 },
 "nbformat": 4,
 "nbformat_minor": 2
}
